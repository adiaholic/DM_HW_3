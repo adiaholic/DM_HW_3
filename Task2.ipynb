{
 "cells": [
  {
   "cell_type": "markdown",
   "id": "0eb1acc4",
   "metadata": {},
   "source": [
    "# Task 2"
   ]
  },
  {
   "cell_type": "code",
   "execution_count": 1,
   "id": "4687b160",
   "metadata": {},
   "outputs": [],
   "source": [
    "import os\n",
    "\n",
    "import matplotlib.pyplot as plt\n",
    "import numpy as np\n",
    "import pandas as pd\n",
    "from IPython.display import display, Markdown\n",
    "\n",
    "from surprise import Dataset \n",
    "from surprise import Reader\n",
    "from surprise.model_selection import train_test_split, cross_validate\n",
    "from surprise import accuracy\n",
    "from surprise import SVD, KNNBasic\n",
    "from sklearn.metrics import confusion_matrix, precision_score, recall_score,classification_report\n",
    "import warnings\n",
    "warnings.filterwarnings('ignore')"
   ]
  },
  {
   "cell_type": "markdown",
   "id": "5b3121f4",
   "metadata": {},
   "source": [
    "## Part-2"
   ]
  },
  {
   "cell_type": "code",
   "execution_count": 2,
   "id": "ec730995",
   "metadata": {},
   "outputs": [
    {
     "name": "stdout",
     "output_type": "stream",
     "text": [
      "Downloaded files are..\n"
     ]
    },
    {
     "data": {
      "text/plain": [
       "['links_small.csv',\n",
       " 'links.csv',\n",
       " 'credits.csv',\n",
       " 'movies_metadata.csv',\n",
       " 'ratings.csv',\n",
       " 'ratings_small.csv',\n",
       " 'keywords.csv']"
      ]
     },
     "execution_count": 2,
     "metadata": {},
     "output_type": "execute_result"
    }
   ],
   "source": [
    "print('Downloaded files are..')\n",
    "os.listdir('/Users/adiaholic/Downloads/archive')"
   ]
  },
  {
   "cell_type": "code",
   "execution_count": 3,
   "id": "441fde4b",
   "metadata": {},
   "outputs": [
    {
     "data": {
      "text/html": [
       "<div>\n",
       "<style scoped>\n",
       "    .dataframe tbody tr th:only-of-type {\n",
       "        vertical-align: middle;\n",
       "    }\n",
       "\n",
       "    .dataframe tbody tr th {\n",
       "        vertical-align: top;\n",
       "    }\n",
       "\n",
       "    .dataframe thead th {\n",
       "        text-align: right;\n",
       "    }\n",
       "</style>\n",
       "<table border=\"1\" class=\"dataframe\">\n",
       "  <thead>\n",
       "    <tr style=\"text-align: right;\">\n",
       "      <th></th>\n",
       "      <th>userId</th>\n",
       "      <th>movieId</th>\n",
       "      <th>rating</th>\n",
       "      <th>timestamp</th>\n",
       "    </tr>\n",
       "  </thead>\n",
       "  <tbody>\n",
       "    <tr>\n",
       "      <th>9358</th>\n",
       "      <td>61</td>\n",
       "      <td>58998</td>\n",
       "      <td>5.0</td>\n",
       "      <td>1216487144</td>\n",
       "    </tr>\n",
       "    <tr>\n",
       "      <th>11867</th>\n",
       "      <td>74</td>\n",
       "      <td>2572</td>\n",
       "      <td>4.0</td>\n",
       "      <td>942705303</td>\n",
       "    </tr>\n",
       "    <tr>\n",
       "      <th>27229</th>\n",
       "      <td>199</td>\n",
       "      <td>46976</td>\n",
       "      <td>3.5</td>\n",
       "      <td>1214913769</td>\n",
       "    </tr>\n",
       "    <tr>\n",
       "      <th>17234</th>\n",
       "      <td>111</td>\n",
       "      <td>4132</td>\n",
       "      <td>2.5</td>\n",
       "      <td>1097514666</td>\n",
       "    </tr>\n",
       "    <tr>\n",
       "      <th>55170</th>\n",
       "      <td>396</td>\n",
       "      <td>412</td>\n",
       "      <td>2.0</td>\n",
       "      <td>841743006</td>\n",
       "    </tr>\n",
       "  </tbody>\n",
       "</table>\n",
       "</div>"
      ],
      "text/plain": [
       "       userId  movieId  rating   timestamp\n",
       "9358       61    58998     5.0  1216487144\n",
       "11867      74     2572     4.0   942705303\n",
       "27229     199    46976     3.5  1214913769\n",
       "17234     111     4132     2.5  1097514666\n",
       "55170     396      412     2.0   841743006"
      ]
     },
     "execution_count": 3,
     "metadata": {},
     "output_type": "execute_result"
    }
   ],
   "source": [
    "data = pd.read_csv('/Users/adiaholic/Downloads/archive/ratings_small.csv')\n",
    "data.sample(5)"
   ]
  },
  {
   "cell_type": "markdown",
   "id": "f432eb07",
   "metadata": {},
   "source": [
    "## Part-3"
   ]
  },
  {
   "cell_type": "code",
   "execution_count": 4,
   "id": "4582bd20",
   "metadata": {},
   "outputs": [],
   "source": [
    "data = data.drop('timestamp', axis=1)"
   ]
  },
  {
   "cell_type": "code",
   "execution_count": 5,
   "id": "d53d19f3",
   "metadata": {},
   "outputs": [],
   "source": [
    "reader = Reader(rating_scale=(1, 5))\n",
    "ratings = Dataset.load_from_df(data, reader)"
   ]
  },
  {
   "cell_type": "markdown",
   "id": "fb428714",
   "metadata": {},
   "source": [
    "## 3(c) Compute the average MAE and RMSE of the Probabilistic Matrix Factorization (PMF), User based Collaborative Filtering, Item based Collaborative Filtering, under the 5-folds cross-validation (10 points)"
   ]
  },
  {
   "cell_type": "markdown",
   "id": "6ceff997",
   "metadata": {},
   "source": [
    "### Use Probabilistic Matrix Factorization(PMF)"
   ]
  },
  {
   "cell_type": "code",
   "execution_count": 6,
   "id": "2f720848",
   "metadata": {},
   "outputs": [
    {
     "name": "stdout",
     "output_type": "stream",
     "text": [
      "Evaluating RMSE, MAE of algorithm SVD on 5 split(s).\n",
      "\n",
      "                  Fold 1  Fold 2  Fold 3  Fold 4  Fold 5  Mean    Std     \n",
      "RMSE (testset)    0.8959  0.8886  0.9040  0.8905  0.9033  0.8964  0.0064  \n",
      "MAE (testset)     0.6897  0.6815  0.6978  0.6877  0.6965  0.6906  0.0060  \n",
      "Fit time          0.57    0.55    0.57    0.56    0.48    0.55    0.03    \n",
      "Test time         0.04    0.09    0.04    0.08    0.04    0.06    0.02    \n"
     ]
    }
   ],
   "source": [
    "model_pmf = SVD()\n",
    "model_pmf_cv = cross_validate(model_pmf, ratings, measures=['RMSE', 'MAE'], cv = 5, verbose=True)"
   ]
  },
  {
   "cell_type": "code",
   "execution_count": 7,
   "id": "d8da1340",
   "metadata": {},
   "outputs": [
    {
     "name": "stdout",
     "output_type": "stream",
     "text": [
      "Average of RMSE for Probabilistic Matrix Factorization(PMF) =  0.8964462376308979\n",
      "Average of MAE for Probabilistic Matrix Factorization(PMF) =  0.6906327368655225\n"
     ]
    }
   ],
   "source": [
    "avg_pmf_rmse = np.average(model_pmf_cv['test_rmse'])\n",
    "avg_pmf_mae = np.average(model_pmf_cv['test_mae'])\n",
    "print('Average of RMSE for Probabilistic Matrix Factorization(PMF) = ', avg_pmf_rmse)\n",
    "print('Average of MAE for Probabilistic Matrix Factorization(PMF) = ', avg_pmf_mae)"
   ]
  },
  {
   "cell_type": "markdown",
   "id": "23eaeed7",
   "metadata": {},
   "source": [
    "### Use User-based collaborative filtering (UCF)"
   ]
  },
  {
   "cell_type": "code",
   "execution_count": 8,
   "id": "e1f6af00",
   "metadata": {},
   "outputs": [
    {
     "name": "stdout",
     "output_type": "stream",
     "text": [
      "Computing the cosine similarity matrix...\n",
      "Done computing similarity matrix.\n",
      "Computing the cosine similarity matrix...\n",
      "Done computing similarity matrix.\n",
      "Computing the cosine similarity matrix...\n",
      "Done computing similarity matrix.\n",
      "Computing the cosine similarity matrix...\n",
      "Done computing similarity matrix.\n",
      "Computing the cosine similarity matrix...\n",
      "Done computing similarity matrix.\n",
      "Evaluating RMSE, MAE of algorithm KNNBasic on 5 split(s).\n",
      "\n",
      "                  Fold 1  Fold 2  Fold 3  Fold 4  Fold 5  Mean    Std     \n",
      "RMSE (testset)    0.9867  0.9983  0.9983  0.9917  0.9922  0.9934  0.0044  \n",
      "MAE (testset)     0.7601  0.7693  0.7723  0.7687  0.7668  0.7674  0.0041  \n",
      "Fit time          0.05    0.07    0.06    0.07    0.06    0.06    0.01    \n",
      "Test time         0.54    0.48    0.46    0.46    0.44    0.47    0.03    \n"
     ]
    }
   ],
   "source": [
    "sim_options = {'name': 'cosine', 'user_based': True}\n",
    "model_ucf = KNNBasic(sim_options=sim_options)\n",
    "model_ucf_cv = cross_validate(model_ucf, ratings, measures=['RMSE', 'MAE'], cv = 5, verbose=True)"
   ]
  },
  {
   "cell_type": "code",
   "execution_count": 9,
   "id": "e3d558a5",
   "metadata": {},
   "outputs": [
    {
     "data": {
      "text/markdown": [
       "Average of RMSE for User-based collaborative filtering (UCF) = 0.9934251513970654<br>Average of MAE for User-based collaborative filtering (UCF) = 0.7674349284619134<br>"
      ],
      "text/plain": [
       "<IPython.core.display.Markdown object>"
      ]
     },
     "metadata": {},
     "output_type": "display_data"
    }
   ],
   "source": [
    "avg_ucf_rmse = np.average(model_ucf_cv['test_rmse'])\n",
    "avg_ucf_mae = np.average(model_ucf_cv['test_mae'])\n",
    "text_1 = f\"Average of RMSE for User-based collaborative filtering (UCF) = {avg_ucf_rmse}<br>Average of MAE for User-based collaborative filtering (UCF) = {avg_ucf_mae}<br>\"\n",
    "\n",
    "display(Markdown(text_1))"
   ]
  },
  {
   "cell_type": "markdown",
   "id": "3fa86e3f",
   "metadata": {},
   "source": [
    "## Use Item-based collaborative filtering (ICF)"
   ]
  },
  {
   "cell_type": "code",
   "execution_count": 10,
   "id": "2468d2aa",
   "metadata": {},
   "outputs": [
    {
     "name": "stdout",
     "output_type": "stream",
     "text": [
      "Computing the cosine similarity matrix...\n",
      "Done computing similarity matrix.\n",
      "Computing the cosine similarity matrix...\n",
      "Done computing similarity matrix.\n",
      "Computing the cosine similarity matrix...\n",
      "Done computing similarity matrix.\n",
      "Computing the cosine similarity matrix...\n",
      "Done computing similarity matrix.\n",
      "Computing the cosine similarity matrix...\n",
      "Done computing similarity matrix.\n",
      "Evaluating RMSE, MAE of algorithm KNNBasic on 5 split(s).\n",
      "\n",
      "                  Fold 1  Fold 2  Fold 3  Fold 4  Fold 5  Mean    Std     \n",
      "RMSE (testset)    0.9912  0.9994  0.9980  0.9950  0.9926  0.9952  0.0031  \n",
      "MAE (testset)     0.7756  0.7761  0.7762  0.7733  0.7744  0.7751  0.0011  \n",
      "Fit time          1.53    1.46    1.36    1.39    1.26    1.40    0.09    \n",
      "Test time         1.69    1.83    2.01    1.80    1.88    1.84    0.11    \n"
     ]
    }
   ],
   "source": [
    "sim_options = {'name': 'cosine', 'user_based': False}\n",
    "model_icf = KNNBasic(sim_options=sim_options)\n",
    "model_icf_cv = cross_validate(model_icf, ratings, measures=['RMSE', 'MAE'], cv = 5, verbose=True)"
   ]
  },
  {
   "cell_type": "code",
   "execution_count": 11,
   "id": "5ae01cf6",
   "metadata": {},
   "outputs": [
    {
     "name": "stdout",
     "output_type": "stream",
     "text": [
      "Average of RMSE for Item-based collaborative filtering (ICF) = 0.995209304780154\n",
      "Average of MAE for Item-based collaborative filtering (ICF) = 0.7751333796237333\n"
     ]
    }
   ],
   "source": [
    "avg_icf_rmse = np.average(model_icf_cv['test_rmse'])\n",
    "avg_icf_mae = np.average(model_icf_cv['test_mae'])\n",
    "print('Average of RMSE for Item-based collaborative filtering (ICF) =', avg_icf_rmse)\n",
    "print('Average of MAE for Item-based collaborative filtering (ICF) =', avg_icf_mae)"
   ]
  },
  {
   "cell_type": "markdown",
   "id": "19a6e14b",
   "metadata": {},
   "source": [
    "### 3(d) Compare the average (mean) performances of User-based collaborative filtering, item-based collaborative filtering, PMF with respect to RMSE and MAE. Which ML model is the best in the movie rating data? (10 points"
   ]
  },
  {
   "cell_type": "code",
   "execution_count": 12,
   "id": "3174153f",
   "metadata": {},
   "outputs": [
    {
     "data": {
      "text/markdown": [
       "|Algo|Mean RMSE|Mean MAE|\n",
       "|----|---------|--------|\n",
       "|Probability Matrix Factorization|0.8964462376308979|0.6906327368655225|\n",
       "|User-based collaborative filtering|0.9934251513970654|0.7674349284619134|\n",
       "|Item-based collaborative filtering|0.995209304780154|0.7751333796237333|"
      ],
      "text/plain": [
       "<IPython.core.display.Markdown object>"
      ]
     },
     "metadata": {},
     "output_type": "display_data"
    }
   ],
   "source": [
    "text = f\"\"\"|Algo|Mean RMSE|Mean MAE|\n",
    "|----|---------|--------|\n",
    "|Probability Matrix Factorization|{avg_pmf_rmse}|{avg_pmf_mae}|\n",
    "|User-based collaborative filtering|{avg_ucf_rmse}|{avg_ucf_mae}|\n",
    "|Item-based collaborative filtering|{avg_icf_rmse}|{avg_icf_mae}|\"\"\"\n",
    "display(Markdown(text))"
   ]
  },
  {
   "cell_type": "markdown",
   "id": "d0b8f4d8",
   "metadata": {},
   "source": [
    "Looking at the table, we see User-based collaborative filtering and Item-based collaborative filtering are pretty similar in performance.\n",
    "\n",
    "But on pure numbers perspective, Item-based collaborative filtering is the better model for movie rating data for both RMSE and MAE"
   ]
  },
  {
   "cell_type": "markdown",
   "id": "cb58f419",
   "metadata": {},
   "source": [
    "## 3(e) Examine how the cosine, MSD (Mean Squared Difference), and Pearson similarities impact the performances of User based Collaborative Filtering and Item based Collaborative Filtering. Plot your results. Is the impact of the three metrics on User based Collaborative Filtering consistent with the impact of the three metrics on Item based Collaborative Filtering? (10 points)"
   ]
  },
  {
   "cell_type": "code",
   "execution_count": 13,
   "id": "38270079",
   "metadata": {},
   "outputs": [],
   "source": [
    "# Item-based collaborative filtering\n",
    "sim_options_cosine = {\n",
    "    \"name\": 'cosine',\n",
    "    'user_based': False\n",
    "}\n",
    "\n",
    "sim_options_msd = {\n",
    "    \"name\": 'msd',\n",
    "    'user_based': False\n",
    "}\n",
    "\n",
    "sim_options_pearson = {\n",
    "    \"name\": 'pearson',\n",
    "    'user_based': False\n",
    "}"
   ]
  },
  {
   "cell_type": "code",
   "execution_count": 14,
   "id": "94ccf56f",
   "metadata": {},
   "outputs": [
    {
     "name": "stdout",
     "output_type": "stream",
     "text": [
      "Computing the cosine similarity matrix...\n",
      "Done computing similarity matrix.\n",
      "Computing the cosine similarity matrix...\n",
      "Done computing similarity matrix.\n",
      "Computing the cosine similarity matrix...\n",
      "Done computing similarity matrix.\n",
      "Computing the cosine similarity matrix...\n",
      "Done computing similarity matrix.\n",
      "Computing the cosine similarity matrix...\n",
      "Done computing similarity matrix.\n",
      "Evaluating RMSE of algorithm KNNBasic on 5 split(s).\n",
      "\n",
      "                  Fold 1  Fold 2  Fold 3  Fold 4  Fold 5  Mean    Std     \n",
      "RMSE (testset)    1.0011  0.9946  0.9900  0.9910  0.9959  0.9945  0.0039  \n",
      "Fit time          1.24    1.40    1.40    1.41    1.49    1.39    0.08    \n",
      "Test time         2.00    2.01    2.02    2.05    2.07    2.03    0.02    \n",
      "Computing the msd similarity matrix...\n",
      "Done computing similarity matrix.\n",
      "Computing the msd similarity matrix...\n",
      "Done computing similarity matrix.\n",
      "Computing the msd similarity matrix...\n",
      "Done computing similarity matrix.\n",
      "Computing the msd similarity matrix...\n",
      "Done computing similarity matrix.\n",
      "Computing the msd similarity matrix...\n",
      "Done computing similarity matrix.\n",
      "Evaluating RMSE of algorithm KNNBasic on 5 split(s).\n",
      "\n",
      "                  Fold 1  Fold 2  Fold 3  Fold 4  Fold 5  Mean    Std     \n",
      "RMSE (testset)    0.9325  0.9347  0.9365  0.9314  0.9415  0.9353  0.0036  \n",
      "Fit time          0.85    0.90    0.96    0.96    0.93    0.92    0.04    \n",
      "Test time         2.06    2.02    2.06    2.06    2.03    2.05    0.02    \n",
      "Computing the pearson similarity matrix...\n",
      "Done computing similarity matrix.\n",
      "Computing the pearson similarity matrix...\n",
      "Done computing similarity matrix.\n",
      "Computing the pearson similarity matrix...\n",
      "Done computing similarity matrix.\n",
      "Computing the pearson similarity matrix...\n",
      "Done computing similarity matrix.\n",
      "Computing the pearson similarity matrix...\n",
      "Done computing similarity matrix.\n",
      "Evaluating RMSE of algorithm KNNBasic on 5 split(s).\n",
      "\n",
      "                  Fold 1  Fold 2  Fold 3  Fold 4  Fold 5  Mean    Std     \n",
      "RMSE (testset)    0.9880  0.9920  0.9959  0.9861  0.9874  0.9899  0.0036  \n",
      "Fit time          2.19    2.01    1.85    2.04    1.74    1.97    0.15    \n",
      "Test time         1.85    1.94    1.97    1.92    2.03    1.94    0.06    \n"
     ]
    }
   ],
   "source": [
    "model_icf_cosine = KNNBasic(sim_options=sim_options_cosine)\n",
    "model_icf_cosine_cv = cross_validate(algo=model_icf_cosine, data=ratings, measures=['RMSE'], cv=5, verbose=True)\n",
    "\n",
    "model_icf_msd = KNNBasic(sim_options=sim_options_msd)\n",
    "model_icf_msd_cv = cross_validate(algo=model_icf_msd, data=ratings, measures=['RMSE'], cv=5, verbose=True)\n",
    "\n",
    "model_icf_pearson = KNNBasic(sim_options=sim_options_pearson)\n",
    "model_icf_pearson_cv = cross_validate(algo=model_icf_pearson, data=ratings, measures=['RMSE'], cv=5, verbose=True)\n",
    "\n",
    "avg_model_icf_cosine_cv = np.average(model_icf_cosine_cv['test_rmse'])\n",
    "avg_model_icf_msd_cv = np.average(model_icf_msd_cv['test_rmse'])\n",
    "avg_model_icf_pearson_cv = np.average(model_icf_pearson_cv['test_rmse'])"
   ]
  },
  {
   "cell_type": "code",
   "execution_count": 15,
   "id": "d8c2caab",
   "metadata": {},
   "outputs": [],
   "source": [
    "# User-based collaborative filtering\n",
    "sim_options_cosine = {\n",
    "    \"name\": 'cosine',\n",
    "    'user_based': True\n",
    "}\n",
    "\n",
    "sim_options_msd = {\n",
    "    \"name\": 'msd',\n",
    "    'user_based': True\n",
    "}\n",
    "\n",
    "sim_options_pearson = {\n",
    "    \"name\": 'pearson',\n",
    "    'user_based': True\n",
    "}"
   ]
  },
  {
   "cell_type": "code",
   "execution_count": 16,
   "id": "d371e742",
   "metadata": {},
   "outputs": [
    {
     "name": "stdout",
     "output_type": "stream",
     "text": [
      "Computing the cosine similarity matrix...\n",
      "Done computing similarity matrix.\n",
      "Computing the cosine similarity matrix...\n",
      "Done computing similarity matrix.\n",
      "Computing the cosine similarity matrix...\n",
      "Done computing similarity matrix.\n",
      "Computing the cosine similarity matrix...\n",
      "Done computing similarity matrix.\n",
      "Computing the cosine similarity matrix...\n",
      "Done computing similarity matrix.\n",
      "Evaluating RMSE of algorithm KNNBasic on 5 split(s).\n",
      "\n",
      "                  Fold 1  Fold 2  Fold 3  Fold 4  Fold 5  Mean    Std     \n",
      "RMSE (testset)    0.9957  0.9914  0.9854  1.0022  0.9910  0.9932  0.0056  \n",
      "Fit time          0.05    0.06    0.06    0.06    0.06    0.06    0.00    \n",
      "Test time         0.44    0.45    0.54    0.47    0.47    0.47    0.03    \n",
      "Computing the msd similarity matrix...\n",
      "Done computing similarity matrix.\n",
      "Computing the msd similarity matrix...\n",
      "Done computing similarity matrix.\n",
      "Computing the msd similarity matrix...\n",
      "Done computing similarity matrix.\n",
      "Computing the msd similarity matrix...\n",
      "Done computing similarity matrix.\n",
      "Computing the msd similarity matrix...\n",
      "Done computing similarity matrix.\n",
      "Evaluating RMSE of algorithm KNNBasic on 5 split(s).\n",
      "\n",
      "                  Fold 1  Fold 2  Fold 3  Fold 4  Fold 5  Mean    Std     \n",
      "RMSE (testset)    0.9696  0.9713  0.9708  0.9575  0.9678  0.9674  0.0051  \n",
      "Fit time          0.03    0.04    0.05    0.04    0.04    0.04    0.00    \n",
      "Test time         0.58    0.44    0.54    0.44    0.48    0.50    0.06    \n",
      "Computing the pearson similarity matrix...\n",
      "Done computing similarity matrix.\n",
      "Computing the pearson similarity matrix...\n",
      "Done computing similarity matrix.\n",
      "Computing the pearson similarity matrix...\n",
      "Done computing similarity matrix.\n",
      "Computing the pearson similarity matrix...\n",
      "Done computing similarity matrix.\n",
      "Computing the pearson similarity matrix...\n",
      "Done computing similarity matrix.\n",
      "Evaluating RMSE of algorithm KNNBasic on 5 split(s).\n",
      "\n",
      "                  Fold 1  Fold 2  Fold 3  Fold 4  Fold 5  Mean    Std     \n",
      "RMSE (testset)    0.9976  1.0073  0.9964  0.9924  0.9942  0.9976  0.0052  \n",
      "Fit time          0.07    0.07    0.08    0.07    0.08    0.07    0.01    \n",
      "Test time         0.48    0.48    0.56    0.45    0.44    0.48    0.04    \n"
     ]
    }
   ],
   "source": [
    "model_ucf_cosine = KNNBasic(sim_options=sim_options_cosine)\n",
    "model_ucf_cosine_cv = cross_validate(algo=model_ucf_cosine, data=ratings, measures=['RMSE'], cv=5, verbose=True)\n",
    "\n",
    "model_ucf_msd = KNNBasic(sim_options=sim_options_msd)\n",
    "model_ucf_msd_cv = cross_validate(algo=model_ucf_msd, data=ratings, measures=['RMSE'], cv=5, verbose=True)\n",
    "\n",
    "model_ucf_pearson = KNNBasic(sim_options=sim_options_pearson)\n",
    "model_ucf_pearson_cv = cross_validate(algo=model_ucf_pearson, data=ratings, measures=['RMSE'], cv=5, verbose=True)\n",
    "\n",
    "avg_model_ucf_cosine_cv = np.average(model_ucf_cosine_cv['test_rmse'])\n",
    "avg_model_ucf_msd_cv = np.average(model_ucf_msd_cv['test_rmse'])\n",
    "avg_model_ucf_pearson_cv = np.average(model_ucf_pearson_cv['test_rmse'])"
   ]
  },
  {
   "cell_type": "code",
   "execution_count": 17,
   "id": "c3184c01",
   "metadata": {
    "scrolled": true
   },
   "outputs": [
    {
     "data": {
      "image/png": "[encoded data removed]",
      "text/plain": [
       "<Figure size 1000x600 with 1 Axes>"
      ]
     },
     "metadata": {},
     "output_type": "display_data"
    }
   ],
   "source": [
    "final_res = {\n",
    "    'RMSE Cosine Similarity - UCF': avg_model_ucf_cosine_cv,\n",
    "    'RMSE Pearson Similarity - UCF': avg_model_ucf_pearson_cv,\n",
    "    'RMSE MSD Similarity - UCF': avg_model_ucf_msd_cv,\n",
    "    'RMSE Cosine Similarity - ICF': avg_model_icf_cosine_cv,\n",
    "    'RMSE Pearson Similarity - ICF': avg_model_icf_pearson_cv,\n",
    "    'RMSE MSD Similarity - ICF': avg_model_icf_msd_cv\n",
    "}\n",
    "\n",
    "fig, ax = plt.subplots(figsize=(10, 6))\n",
    "bars = ax.barh(\n",
    "    list(final_res.keys()), list(final_res.values()),\n",
    "    color='maroon',\n",
    "    label=list(final_res.values())\n",
    ")\n",
    "for bar in bars:\n",
    "    plt.text(bar.get_width(), bar.get_y() + bar.get_height() / 2, f'{bar.get_width():.4f}', \n",
    "             va='center', ha='left', fontsize=8, color='black')\n",
    "\n",
    "ax.set_xlabel('RMSE Values')\n",
    "ax.set_title('RMSE for Different Similarity Metrics and Collaborative Filtering Methods')\n",
    "plt.show()"
   ]
  },
  {
   "cell_type": "code",
   "execution_count": 18,
   "id": "94a1fac4",
   "metadata": {},
   "outputs": [
    {
     "data": {
      "text/markdown": [
       "Looking at the graph above Item CF (0.935325150630721) achieves **lower RMSE** Accuracy than User CF (0.9674119882368235) for **MSD** similarity measure, **lower RMSE** Accuracy(0.9899042324886718) than User CF (0.997599521529463) for **Pearson similarity measure** and higher RMSE Accuracy(0.9944990681690461) than User CF(0.9931618236163355) for **Cosine** similarity measure."
      ],
      "text/plain": [
       "<IPython.core.display.Markdown object>"
      ]
     },
     "metadata": {},
     "output_type": "display_data"
    }
   ],
   "source": [
    "text = \"\"\n",
    "text += f\"Looking at the graph above Item CF ({avg_model_icf_msd_cv}) achieves **lower RMSE**\"\n",
    "text += f\" Accuracy than User CF ({avg_model_ucf_msd_cv}) for **MSD** similarity measure, **lower RMSE** Accuracy({avg_model_icf_pearson_cv})\"\n",
    "text += f\" than User CF ({avg_model_ucf_pearson_cv}) for **Pearson similarity measure** and higher RMSE Accuracy({avg_model_icf_cosine_cv})\"\n",
    "text += f\" than User CF({avg_model_ucf_cosine_cv}) for **Cosine** similarity measure.\"\n",
    "\n",
    "display(Markdown(text))"
   ]
  },
  {
   "cell_type": "markdown",
   "id": "55a9c9b5",
   "metadata": {},
   "source": [
    "While the difference is not significant for Pearson and Cosine, but looking at the pure numbers, the impact of the 3 metrics is not significantly consistent between User-based collaborative filtering and Item-based collaborative filtering."
   ]
  },
  {
   "cell_type": "markdown",
   "id": "ac4fb51d",
   "metadata": {},
   "source": [
    "## 3(f) Examine how the number of neighbors impacts the performances of User based Collaborative Filtering and Item based Collaborative Filtering? Plot your results. "
   ]
  },
  {
   "cell_type": "code",
   "execution_count": 19,
   "id": "afb5402c",
   "metadata": {},
   "outputs": [
    {
     "name": "stdout",
     "output_type": "stream",
     "text": [
      "Computing the cosine similarity matrix...\n",
      "Done computing similarity matrix.\n",
      "Computing the cosine similarity matrix...\n",
      "Done computing similarity matrix.\n",
      "Computing the cosine similarity matrix...\n",
      "Done computing similarity matrix.\n",
      "Computing the cosine similarity matrix...\n",
      "Done computing similarity matrix.\n",
      "Computing the cosine similarity matrix...\n",
      "Done computing similarity matrix.\n",
      "Computing the cosine similarity matrix...\n",
      "Done computing similarity matrix.\n",
      "Computing the cosine similarity matrix...\n",
      "Done computing similarity matrix.\n",
      "Computing the cosine similarity matrix...\n",
      "Done computing similarity matrix.\n",
      "Computing the cosine similarity matrix...\n",
      "Done computing similarity matrix.\n",
      "Computing the cosine similarity matrix...\n",
      "Done computing similarity matrix.\n",
      "Computing the cosine similarity matrix...\n",
      "Done computing similarity matrix.\n",
      "Computing the cosine similarity matrix...\n",
      "Done computing similarity matrix.\n",
      "Computing the cosine similarity matrix...\n",
      "Done computing similarity matrix.\n",
      "Computing the cosine similarity matrix...\n",
      "Done computing similarity matrix.\n",
      "Computing the cosine similarity matrix...\n",
      "Done computing similarity matrix.\n",
      "Computing the cosine similarity matrix...\n",
      "Done computing similarity matrix.\n",
      "Computing the cosine similarity matrix...\n",
      "Done computing similarity matrix.\n",
      "Computing the cosine similarity matrix...\n",
      "Done computing similarity matrix.\n",
      "Computing the cosine similarity matrix...\n",
      "Done computing similarity matrix.\n",
      "Computing the cosine similarity matrix...\n",
      "Done computing similarity matrix.\n",
      "Computing the cosine similarity matrix...\n",
      "Done computing similarity matrix.\n",
      "Computing the cosine similarity matrix...\n",
      "Done computing similarity matrix.\n",
      "Computing the cosine similarity matrix...\n",
      "Done computing similarity matrix.\n",
      "Computing the cosine similarity matrix...\n",
      "Done computing similarity matrix.\n",
      "Computing the cosine similarity matrix...\n",
      "Done computing similarity matrix.\n",
      "Computing the cosine similarity matrix...\n",
      "Done computing similarity matrix.\n",
      "Computing the cosine similarity matrix...\n",
      "Done computing similarity matrix.\n",
      "Computing the cosine similarity matrix...\n",
      "Done computing similarity matrix.\n",
      "Computing the cosine similarity matrix...\n",
      "Done computing similarity matrix.\n",
      "Computing the cosine similarity matrix...\n",
      "Done computing similarity matrix.\n",
      "Computing the cosine similarity matrix...\n",
      "Done computing similarity matrix.\n",
      "Computing the cosine similarity matrix...\n",
      "Done computing similarity matrix.\n",
      "Computing the cosine similarity matrix...\n",
      "Done computing similarity matrix.\n",
      "Computing the cosine similarity matrix...\n",
      "Done computing similarity matrix.\n",
      "Computing the cosine similarity matrix...\n",
      "Done computing similarity matrix.\n",
      "Computing the cosine similarity matrix...\n",
      "Done computing similarity matrix.\n",
      "Computing the cosine similarity matrix...\n",
      "Done computing similarity matrix.\n",
      "Computing the cosine similarity matrix...\n",
      "Done computing similarity matrix.\n",
      "Computing the cosine similarity matrix...\n",
      "Done computing similarity matrix.\n",
      "Computing the cosine similarity matrix...\n",
      "Done computing similarity matrix.\n",
      "Computing the cosine similarity matrix...\n",
      "Done computing similarity matrix.\n",
      "Computing the cosine similarity matrix...\n",
      "Done computing similarity matrix.\n",
      "Computing the cosine similarity matrix...\n",
      "Done computing similarity matrix.\n",
      "Computing the cosine similarity matrix...\n",
      "Done computing similarity matrix.\n",
      "Computing the cosine similarity matrix...\n",
      "Done computing similarity matrix.\n",
      "Computing the cosine similarity matrix...\n",
      "Done computing similarity matrix.\n",
      "Computing the cosine similarity matrix...\n",
      "Done computing similarity matrix.\n",
      "Computing the cosine similarity matrix...\n",
      "Done computing similarity matrix.\n",
      "Computing the cosine similarity matrix...\n",
      "Done computing similarity matrix.\n",
      "Computing the cosine similarity matrix...\n",
      "Done computing similarity matrix.\n",
      "Computing the cosine similarity matrix...\n",
      "Done computing similarity matrix.\n",
      "Computing the cosine similarity matrix...\n",
      "Done computing similarity matrix.\n",
      "Computing the cosine similarity matrix...\n",
      "Done computing similarity matrix.\n",
      "Computing the cosine similarity matrix...\n",
      "Done computing similarity matrix.\n",
      "Computing the cosine similarity matrix...\n",
      "Done computing similarity matrix.\n",
      "Computing the cosine similarity matrix...\n",
      "Done computing similarity matrix.\n",
      "Computing the cosine similarity matrix...\n",
      "Done computing similarity matrix.\n",
      "Computing the cosine similarity matrix...\n",
      "Done computing similarity matrix.\n",
      "Computing the cosine similarity matrix...\n",
      "Done computing similarity matrix.\n",
      "Computing the cosine similarity matrix...\n",
      "Done computing similarity matrix.\n",
      "Computing the cosine similarity matrix...\n",
      "Done computing similarity matrix.\n",
      "Computing the cosine similarity matrix...\n",
      "Done computing similarity matrix.\n",
      "Computing the cosine similarity matrix...\n",
      "Done computing similarity matrix.\n",
      "Computing the cosine similarity matrix...\n",
      "Done computing similarity matrix.\n",
      "Computing the cosine similarity matrix...\n",
      "Done computing similarity matrix.\n",
      "Computing the cosine similarity matrix...\n",
      "Done computing similarity matrix.\n",
      "Computing the cosine similarity matrix...\n",
      "Done computing similarity matrix.\n",
      "Computing the cosine similarity matrix...\n",
      "Done computing similarity matrix.\n",
      "Computing the cosine similarity matrix...\n",
      "Done computing similarity matrix.\n",
      "Computing the cosine similarity matrix...\n",
      "Done computing similarity matrix.\n",
      "Computing the cosine similarity matrix...\n",
      "Done computing similarity matrix.\n",
      "Computing the cosine similarity matrix...\n",
      "Done computing similarity matrix.\n",
      "Computing the cosine similarity matrix...\n",
      "Done computing similarity matrix.\n",
      "Computing the cosine similarity matrix...\n",
      "Done computing similarity matrix.\n",
      "Computing the cosine similarity matrix...\n",
      "Done computing similarity matrix.\n",
      "Computing the cosine similarity matrix...\n",
      "Done computing similarity matrix.\n",
      "Computing the cosine similarity matrix...\n",
      "Done computing similarity matrix.\n",
      "Computing the cosine similarity matrix...\n",
      "Done computing similarity matrix.\n",
      "Computing the cosine similarity matrix...\n",
      "Done computing similarity matrix.\n",
      "Computing the cosine similarity matrix...\n",
      "Done computing similarity matrix.\n"
     ]
    }
   ],
   "source": [
    "k_values = np.arange(5, 41, 5)\n",
    "\n",
    "def evaluate_rmse_for_different_k(model: KNNBasic, data: any):\n",
    "    cv_results = cross_validate(model, data, measures=['RMSE'], cv=5)\n",
    "    return np.average(cv_results['test_rmse'])\n",
    "    \n",
    "sim_options_icf = {\n",
    "    \"name\": 'cosine',\n",
    "    \"user_based\": False\n",
    "}\n",
    "\n",
    "sim_options_ucf = {\n",
    "    \"name\": 'cosine',\n",
    "    'user_based': True\n",
    "}\n",
    "\n",
    "results = {}\n",
    "for k_val in k_values:\n",
    "    model_icf = KNNBasic(k=k_val, sim_options=sim_options_icf)\n",
    "    model_ucf = KNNBasic(k=k_val, sim_options=sim_options_ucf)\n",
    "    \n",
    "    acc_icf_rmse = evaluate_rmse_for_different_k(model=model_icf, data=ratings)\n",
    "    acc_ucf_rmse = evaluate_rmse_for_different_k(model=model_ucf, data=ratings)\n",
    "    results[k_val] = (acc_icf_rmse, acc_ucf_rmse)"
   ]
  },
  {
   "cell_type": "code",
   "execution_count": 20,
   "id": "76dbc925",
   "metadata": {},
   "outputs": [
    {
     "data": {
      "image/png": "[encoded data removed]",
      "text/plain": [
       "<Figure size 640x480 with 1 Axes>"
      ]
     },
     "metadata": {},
     "output_type": "display_data"
    },
    {
     "name": "stdout",
     "output_type": "stream",
     "text": [
      "{5: (1.099087260396432, 1.0430779740761835), 10: (1.0508062287876565, 1.0087628644606415), 15: (1.0284573810062663, 1.0007217922927203), 20: (1.0175644994389847, 0.9980317055956324), 25: (1.0102254249429823, 0.9944660250236165), 30: (1.0028509548622047, 0.9941719948596403), 35: (0.9992021995396623, 0.9946109152467237), 40: (0.9951018284159592, 0.9927026601045371)}\n"
     ]
    }
   ],
   "source": [
    "fig, ax = plt.subplots()\n",
    "X = list(results.keys())\n",
    "X_axis = np.arange(len(X))\n",
    "bar1 = ax.bar(X_axis - 0.2, [x[0] for x in results.values()], width = 0.4, label='Item-based CF')\n",
    "bar2 = ax.bar(X_axis + 0.2, [x[1] for x in results.values()], width = 0.4, label='User-based CF')\n",
    "\n",
    "ax.set_xticks(X_axis, X)\n",
    "ax.legend()\n",
    "plt.show()\n",
    "print(results)"
   ]
  },
  {
   "cell_type": "markdown",
   "id": "22948030",
   "metadata": {},
   "source": [
    "Examining the graph, we observe a consistent accuracy gap between Item-based Collaborative Filtering (ICF) and User-based Collaborative Filtering (UCF), with ICF consistently outperforming UCF. The number of neighbors does not appear to significantly impact the consistency of performance. However, it is notable that the RMSE accuracy keeps reducing after K value is computed."
   ]
  },
  {
   "cell_type": "markdown",
   "id": "d8281b31",
   "metadata": {},
   "source": [
    "## 3(g) Identify the best number of neighbor (denoted by K) for User/Item based collaborative filtering in terms of RMSE. Is the best K of User based collaborative filtering the same with the best K of Item based collaborative filtering? (10 points)"
   ]
  },
  {
   "cell_type": "code",
   "execution_count": 21,
   "id": "5e37fde4",
   "metadata": {},
   "outputs": [
    {
     "data": {
      "text/markdown": [
       "K = 40 has the lowest RMSE so is the best number of neighbors for Item based collaborative filtering. K = 40 is the lowest RMSE and best number of neighbors for User-based collaborative filtering."
      ],
      "text/plain": [
       "<IPython.core.display.Markdown object>"
      ]
     },
     "metadata": {},
     "output_type": "display_data"
    }
   ],
   "source": [
    "k_for_min_ucf_rmse = min(results, key=lambda x : results[x][1])\n",
    "k_for_min_icf_rmse = min(results, key=lambda x : results[x][0])\n",
    "text = \"\"\n",
    "text += f\"K = {k_for_min_icf_rmse} has the lowest RMSE so is the best number of neighbors for Item based collaborative filtering.\"\n",
    "text += f\" K = {k_for_min_ucf_rmse} is the lowest RMSE and best number of neighbors for User-based collaborative filtering.\"\n",
    "display(Markdown(text))"
   ]
  },
  {
   "cell_type": "markdown",
   "id": "9c8f34db",
   "metadata": {},
   "source": [
    "No, the best K of User based collaborative filtering is not the same with the best K of Item based collaborative filtering."
   ]
  }
 ],
 "metadata": {
  "kernelspec": {
   "display_name": "Python 3 (ipykernel)",
   "language": "python",
   "name": "python3"
  },
  "language_info": {
   "codemirror_mode": {
    "name": "ipython",
    "version": 3
   },
   "file_extension": ".py",
   "mimetype": "text/x-python",
   "name": "python",
   "nbconvert_exporter": "python",
   "pygments_lexer": "ipython3",
   "version": "3.11.3"
  }
 },
 "nbformat": 4,
 "nbformat_minor": 5
}
