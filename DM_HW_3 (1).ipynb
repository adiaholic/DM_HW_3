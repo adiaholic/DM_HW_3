{
 "cells": [
  {
   "cell_type": "code",
   "execution_count": 1,
   "id": "e6fcda44-83ae-4379-b290-fe17f7c3be56",
   "metadata": {
    "tags": []
   },
   "outputs": [],
   "source": [
    "import matplotlib.pyplot as plt\n",
    "from IPython.display import display, Markdown\n",
    "from sklearn.metrics.pairwise import pairwise_distances\n",
    "import pandas as pd\n",
    "import numpy as np\n",
    "from sklearn.metrics import accuracy_score\n",
    "import warnings\n",
    "warnings.filterwarnings('ignore')"
   ]
  },
  {
   "cell_type": "code",
   "execution_count": 2,
   "id": "25d55b03-ce5d-4421-b15f-32031ef3ada5",
   "metadata": {
    "tags": []
   },
   "outputs": [],
   "source": [
    "class KMeansClustering:\n",
    "    \n",
    "    def __init__(self, k, stopping_criterion=\"no_change\") -> None:\n",
    "        self.k = k\n",
    "        self.stopping_criterion = stopping_criterion\n",
    "        self.centroids = None\n",
    "        self._sse_score = None\n",
    "        self._last_sse_score = float('inf')\n",
    "        self._iterations = 0\n",
    "    \n",
    "    def euclidean_distance(self, data_point, centroids):\n",
    "        return np.sqrt(np.sum((centroids - data_point)**2, axis=1))\n",
    "    \n",
    "    def __sum_of_squared_errors_calc(self, centroids, data, y):\n",
    "        sum_of_errors = 0.0\n",
    "        for idx, d in enumerate(data):\n",
    "            sum_of_errors += np.sum((centroids[y[idx]] - d) ** 2)\n",
    "\n",
    "        return sum_of_errors\n",
    "\n",
    "    def get_sum_of_squared_error(self):\n",
    "        return self._sse_score\n",
    "    def get_iterations_to_converge(self):\n",
    "        return self._iterations\n",
    "    \n",
    "    def fit(self, X, max_iterations=200):\n",
    "        self.centroids = np.random.uniform(\n",
    "            low=np.amin(X, axis=0),\n",
    "            high=np.amax(X, axis=0),\n",
    "            size=(self.k, X.shape[1]))\n",
    "\n",
    "        y = []\n",
    "        for _ in range(max_iterations):\n",
    "            y = []\n",
    "            for data_point in X:\n",
    "\n",
    "                distances = self.euclidean_distance(\n",
    "                    data_point=data_point,\n",
    "                    centroids=self.centroids)\n",
    "                cluster_num = np.argmin(distances)\n",
    "                y.append(cluster_num)\n",
    "            y = np.asarray(y)\n",
    "\n",
    "            cluster_indices = []\n",
    "\n",
    "            for idx in range(self.k):\n",
    "                cluster_indices.append(np.argwhere(y == idx))\n",
    "\n",
    "            cluster_centers = []\n",
    "\n",
    "            for i, indices in enumerate(cluster_indices):\n",
    "                if len(indices) == 0:\n",
    "                    cluster_centers.append(self.centroids[i])\n",
    "                else:\n",
    "                    cluster_centers.append(np.mean(X[indices], axis=0)[0])\n",
    "\n",
    "            if self.stopping_criterion == \"no_change\" and np.max(self.centroids - np.array(cluster_centers)) < 1e-3:\n",
    "                break\n",
    "            elif self.stopping_criterion == \"increase_sse\":\n",
    "                current_sse = self.__sum_of_squared_errors_calc(X, np.array(cluster_centers), y)\n",
    "                if current_sse > self._last_sse_score:\n",
    "                    break\n",
    "                self._last_sse_score = current_sse\n",
    "            else:\n",
    "                self.centroids = np.array(cluster_centers)\n",
    "            self._iterations += 1\n",
    "\n",
    "        # Calculate the final SSE after performing K-means\n",
    "        self._sse_score = self.__sum_of_squared_errors_calc(X, self.centroids, y)\n",
    "        \n",
    "        return y"
   ]
  },
  {
   "cell_type": "code",
   "execution_count": 3,
   "id": "a456f611-5be2-445c-a1fc-6c270450257e",
   "metadata": {
    "tags": []
   },
   "outputs": [
    {
     "name": "stdout",
     "output_type": "stream",
     "text": [
      "Data:  (10000, 784)\n",
      "Labels:  (10000,)\n"
     ]
    }
   ],
   "source": [
    "data = np.array(pd.read_csv('/Users/adiaholic/Desktop/DM_HW3/kmeans_data/data.csv', header=None))\n",
    "labels = np.ravel(pd.read_csv('/Users/adiaholic/Desktop/DM_HW3/kmeans_data/label.csv', header=None))\n",
    "print('Data: ', data.shape)\n",
    "print('Labels: ', labels.shape)"
   ]
  },
  {
   "cell_type": "code",
   "execution_count": 4,
   "id": "e15183cd-1ce8-4cbc-b0f3-fc1700c75e39",
   "metadata": {
    "tags": []
   },
   "outputs": [],
   "source": [
    "unique_labels = np.unique(labels)\n",
    "no_of_clusters = unique_labels.size\n",
    "MAX_ITERATIONS = 100"
   ]
  },
  {
   "cell_type": "code",
   "execution_count": 5,
   "id": "f55f12b9-00f9-470f-84e7-1ca5b6eb6baa",
   "metadata": {
    "tags": []
   },
   "outputs": [],
   "source": [
    "euclidean_kmeans_m = KMeansClustering(k=no_of_clusters)\n",
    "euclidean_kmeans_m_labels = euclidean_kmeans_m.fit(X=data, max_iterations=MAX_ITERATIONS)"
   ]
  },
  {
   "cell_type": "code",
   "execution_count": 6,
   "id": "1c18b750-3da6-4d39-8ccd-3743e976aa25",
   "metadata": {
    "tags": []
   },
   "outputs": [
    {
     "data": {
      "text/plain": [
       "array([2, 4, 5, 6, 7, 8, 9])"
      ]
     },
     "execution_count": 6,
     "metadata": {},
     "output_type": "execute_result"
    }
   ],
   "source": [
    "np.unique(euclidean_kmeans_m_labels)"
   ]
  },
  {
   "cell_type": "code",
   "execution_count": 7,
   "id": "11c90b1e-13db-45b8-a0f3-34110b106054",
   "metadata": {
    "tags": []
   },
   "outputs": [],
   "source": [
    "cosine_distances = pairwise_distances(data, metric='cosine')\n",
    "cosine_kmeans_m = KMeansClustering(k=no_of_clusters)\n",
    "cosine_kmeans_m_labels = cosine_kmeans_m.fit(cosine_distances, max_iterations=MAX_ITERATIONS)"
   ]
  },
  {
   "cell_type": "code",
   "execution_count": 8,
   "id": "60c13c16-5ce8-4d1e-b98e-d2572822f15d",
   "metadata": {
    "tags": []
   },
   "outputs": [],
   "source": [
    "jaccard_distances = pairwise_distances(data, metric='hamming')\n",
    "jaccard_kmeans_m = KMeansClustering(k=no_of_clusters)\n",
    "jaccard_kmeans_m_labels = jaccard_kmeans_m.fit(X=jaccard_distances, max_iterations=MAX_ITERATIONS)"
   ]
  },
  {
   "cell_type": "code",
   "execution_count": 9,
   "id": "e4adffcd-3e1a-48fd-b814-dec0623be382",
   "metadata": {
    "tags": []
   },
   "outputs": [
    {
     "data": {
      "text/plain": [
       "65205635.80930599"
      ]
     },
     "execution_count": 9,
     "metadata": {},
     "output_type": "execute_result"
    }
   ],
   "source": [
    "sse_euclidean_m = euclidean_kmeans_m.get_sum_of_squared_error()\n",
    "sse_euclidean_m"
   ]
  },
  {
   "cell_type": "code",
   "execution_count": 10,
   "id": "3a5bf42c-b5eb-4e82-b722-33d8f512013d",
   "metadata": {
    "tags": []
   },
   "outputs": [
    {
     "data": {
      "text/plain": [
       "3718.543362795076"
      ]
     },
     "execution_count": 10,
     "metadata": {},
     "output_type": "execute_result"
    }
   ],
   "source": [
    "sse_cosine_m = cosine_kmeans_m.get_sum_of_squared_error()\n",
    "sse_cosine_m"
   ]
  },
  {
   "cell_type": "code",
   "execution_count": 11,
   "id": "b0d21f5c-2f14-4858-89da-6ebc2202a87d",
   "metadata": {
    "tags": []
   },
   "outputs": [
    {
     "data": {
      "text/plain": [
       "1672.8819363247092"
      ]
     },
     "execution_count": 11,
     "metadata": {},
     "output_type": "execute_result"
    }
   ],
   "source": [
    "see_jaccard_m = jaccard_kmeans_m.get_sum_of_squared_error()\n",
    "see_jaccard_m"
   ]
  },
  {
   "cell_type": "code",
   "execution_count": 12,
   "id": "51528278-83cb-4be1-a51c-709fb15384d7",
   "metadata": {
    "tags": []
   },
   "outputs": [
    {
     "data": {
      "text/markdown": [
       "**SSE** of Euclidean K-means = 65205635.80930599<br>**SSE** of Cosine K-means = 3718.543362795076<br>**SSE** of Jaccard K-means = 1672.8819363247092<br>"
      ],
      "text/plain": [
       "<IPython.core.display.Markdown object>"
      ]
     },
     "metadata": {},
     "output_type": "display_data"
    }
   ],
   "source": [
    "sse_values = {\n",
    "    'Euclidean': sse_euclidean_m,\n",
    "    'Cosine': sse_cosine_m,\n",
    "    'Jaccard': see_jaccard_m\n",
    "}\n",
    "\n",
    "sse_texts = [f\"**SSE** of {distance} K-means = {sse}<br>\" for distance, sse in sse_values.items()]\n",
    "\n",
    "display(Markdown(\"\".join(sse_texts)))\n"
   ]
  },
  {
   "cell_type": "code",
   "execution_count": 13,
   "id": "f0628c88-1726-40f2-aef4-25e973de9451",
   "metadata": {
    "tags": []
   },
   "outputs": [],
   "source": [
    "def label_clusters(labels, true_labels):\n",
    "    unique_labels = np.unique(true_labels)\n",
    "    cluster_labels = np.zeros(len(labels), dtype=np.int)\n",
    "    for cluster in range(no_of_clusters):\n",
    "        cluster_indices = np.where(labels == cluster)[0]\n",
    "        cluster_true_labels = true_labels[cluster_indices]\n",
    "        majority_label = np.argmax([np.sum(cluster_true_labels == label) for label in unique_labels])\n",
    "        cluster_labels[cluster_indices] = majority_label\n",
    "    return cluster_labels\n",
    "\n",
    "# Label clusters using majority vote\n",
    "cluster_labels_euclidean = label_clusters(euclidean_kmeans_m_labels, labels)\n",
    "cluster_labels_cosine = label_clusters(cosine_kmeans_m_labels, labels)\n",
    "cluster_labels_jaccard = label_clusters(jaccard_kmeans_m_labels, labels)\n",
    "\n",
    "# Compute predictive accuracy\n",
    "accuracy_euclidean = accuracy_score(labels, cluster_labels_euclidean)\n",
    "accuracy_cosine = accuracy_score(labels, cluster_labels_cosine)\n",
    "accuracy_jaccard = accuracy_score(labels, cluster_labels_jaccard)"
   ]
  },
  {
   "cell_type": "code",
   "execution_count": 14,
   "id": "86dc1cba-b85a-4d8e-ad85-641b5a5c6ff7",
   "metadata": {
    "tags": []
   },
   "outputs": [
    {
     "data": {
      "text/markdown": [
       "**Accuracy** of Euclidean-K-means = 54.37%<br>**Accuracy** of Cosine-K-means = 44.800000000000004%<br>**Accuracy** of Jaccard-K-means = 11.35%<br>"
      ],
      "text/plain": [
       "<IPython.core.display.Markdown object>"
      ]
     },
     "metadata": {},
     "output_type": "display_data"
    }
   ],
   "source": [
    "accuracy_results = [\n",
    "    (\"Euclidean\", accuracy_euclidean),\n",
    "    (\"Cosine\", accuracy_cosine),\n",
    "    (\"Jaccard\", accuracy_jaccard)\n",
    "]\n",
    "\n",
    "acc_texts = [\n",
    "    f\"**Accuracy** of {method}-K-means = {accuracy * 100}%<br>\"\n",
    "    for method, accuracy in accuracy_results\n",
    "]\n",
    "\n",
    "display(Markdown(''.join(acc_texts)))\n"
   ]
  },
  {
   "cell_type": "code",
   "execution_count": 15,
   "id": "72ef9e54-43db-4274-9479-7b98d6b7b59e",
   "metadata": {},
   "outputs": [],
   "source": [
    "euclidean_iterations = euclidean_kmeans_m.get_iterations_to_converge()\n",
    "cosine_iterations = cosine_kmeans_m.get_iterations_to_converge()\n",
    "jarcard_iterations = jaccard_kmeans_m.get_iterations_to_converge()"
   ]
  },
  {
   "cell_type": "code",
   "execution_count": 16,
   "id": "13cdb297-8a3c-45a2-a536-c71daa36c2e1",
   "metadata": {
    "tags": []
   },
   "outputs": [
    {
     "data": {
      "text/markdown": [
       "Note: Max iterations have been set to 500 and the change in centroid position is less than 1e-3. <br>Iterations to converge for Euclidean-K-means = **34** <br>Iterations to converge for Cosine-K-means = **27** <br>Iterations to converge for Jaccard-K-means = **1** <br>"
      ],
      "text/plain": [
       "<IPython.core.display.Markdown object>"
      ]
     },
     "metadata": {},
     "output_type": "display_data"
    }
   ],
   "source": [
    "text_messages = [\n",
    "    f\"Note: Max iterations have been set to 500 and the change in centroid position is less than 1e-3. <br>\",\n",
    "    f\"Iterations to converge for Euclidean-K-means = **{euclidean_iterations}** <br>\",\n",
    "    f\"Iterations to converge for Cosine-K-means = **{cosine_iterations}** <br>\",\n",
    "    f\"Iterations to converge for Jaccard-K-means = **{jarcard_iterations}** <br>\"\n",
    "]\n",
    "\n",
    "display(Markdown(''.join(text_messages)))\n"
   ]
  },
  {
   "cell_type": "code",
   "execution_count": 17,
   "id": "99ec795e-4c93-400a-acc9-b9aa1a285412",
   "metadata": {},
   "outputs": [],
   "source": [
    "euclidean_kmeans_1 = KMeansClustering(k=no_of_clusters, stopping_criterion=\"no_change\")\n",
    "euclidean_kmeans_1_predicted_labels = euclidean_kmeans_1.fit(data, max_iterations=MAX_ITERATIONS)\n",
    "sse_euclidean_kmeans_1 = euclidean_kmeans_1.get_sum_of_squared_error()\n"
   ]
  },
  {
   "cell_type": "code",
   "execution_count": 18,
   "id": "baa61e0b-b948-4d6d-b2b4-b13aa1b4247a",
   "metadata": {
    "tags": []
   },
   "outputs": [
    {
     "name": "stdout",
     "output_type": "stream",
     "text": [
      "SSE of Euclidean Kmeans when no change for centroid position is equal to 45726619.240226574\n"
     ]
    }
   ],
   "source": [
    "print(f\"SSE of Euclidean Kmeans when no change for centroid position is equal to {sse_euclidean_kmeans_1}\")\n"
   ]
  },
  {
   "cell_type": "code",
   "execution_count": 19,
   "id": "a7a582c5-04f0-48f1-be83-ab2f519f369a",
   "metadata": {},
   "outputs": [],
   "source": [
    "cosine_kmeans_1 = KMeansClustering(k=no_of_clusters, stopping_criterion=\"no_change\")\n",
    "cosine_kmeans_1_predicted_labels = cosine_kmeans_1.fit(cosine_distances, max_iterations=MAX_ITERATIONS)\n",
    "sse_cosine_kmeans_1 = cosine_kmeans_1.get_sum_of_squared_error()\n"
   ]
  },
  {
   "cell_type": "code",
   "execution_count": 20,
   "id": "ae356873-b754-4641-9a73-b9a1b65fb7f0",
   "metadata": {
    "tags": []
   },
   "outputs": [
    {
     "name": "stdout",
     "output_type": "stream",
     "text": [
      "SSE of Cosine Kmeans when no change for centroid position is equal to 2474.2042976223465\n"
     ]
    }
   ],
   "source": [
    "print(f\"SSE of Cosine Kmeans when no change for centroid position is equal to {sse_cosine_kmeans_1}\")\n"
   ]
  },
  {
   "cell_type": "code",
   "execution_count": 21,
   "id": "4fa365e6-becc-4643-afdd-f7156fec6bc2",
   "metadata": {},
   "outputs": [],
   "source": [
    "jaccard_kmeans_1 = KMeansClustering(k=no_of_clusters, stopping_criterion=\"no_change\")\n",
    "jaccard_kmeans_1_predicted_labels = jaccard_kmeans_1.fit(jaccard_distances, max_iterations=MAX_ITERATIONS)\n",
    "sse_jaccard_kmeans_1 = jaccard_kmeans_1.get_sum_of_squared_error()\n"
   ]
  },
  {
   "cell_type": "code",
   "execution_count": 22,
   "id": "4e30c760-565a-4ed5-ba5f-8f65522d323f",
   "metadata": {
    "tags": []
   },
   "outputs": [
    {
     "name": "stdout",
     "output_type": "stream",
     "text": [
      "SSE of Jaccard Kmeans when no change for centroid position is equal to 2202.7521173511027\n"
     ]
    }
   ],
   "source": [
    "print(f\"SSE of Jaccard Kmeans when no change for centroid position is equal to {sse_jaccard_kmeans_1}\")\n"
   ]
  },
  {
   "cell_type": "code",
   "execution_count": 23,
   "id": "9716556c-01cd-40fc-b830-14a175d05bec",
   "metadata": {},
   "outputs": [],
   "source": [
    "euclidean_kmeans_2 = KMeansClustering(k=no_of_clusters, stopping_criterion=\"increase_sse\")\n",
    "euclidean_kmeans_2_predicted_labels = euclidean_kmeans_2.fit(data, max_iterations=MAX_ITERATIONS)\n",
    "sse_euclidean_kmeans_2 = euclidean_kmeans_2.get_sum_of_squared_error()\n"
   ]
  },
  {
   "cell_type": "code",
   "execution_count": 24,
   "id": "d1eadb0c-0e28-4dab-938a-651009262c78",
   "metadata": {
    "tags": []
   },
   "outputs": [
    {
     "name": "stdout",
     "output_type": "stream",
     "text": [
      "SSE of Euclidean Kmeans when the SSE value increases in the next iteration is equal to 126905056.93280669\n"
     ]
    }
   ],
   "source": [
    "print(f\"SSE of Euclidean Kmeans when the SSE value increases in the next iteration is equal to {sse_euclidean_kmeans_2}\")\n"
   ]
  },
  {
   "cell_type": "code",
   "execution_count": 25,
   "id": "4d28efd1-12a3-4b0e-aff3-975b99b71646",
   "metadata": {},
   "outputs": [
    {
     "name": "stdout",
     "output_type": "stream",
     "text": [
      "SSE of Cosine K-means when the SSE value increases in the next iteration = 10430.754945182669\n"
     ]
    }
   ],
   "source": [
    "cosine_kmeans_2 = KMeansClustering(k=no_of_clusters, stopping_criterion=\"increase_sse\")\n",
    "cosine_kmeans_2_predicted_labels = cosine_kmeans_2.fit(cosine_distances, max_iterations=MAX_ITERATIONS)\n",
    "sse_cosine_kmeans_2 = cosine_kmeans_2.get_sum_of_squared_error()\n",
    "print('SSE of Cosine K-means when the SSE value increases in the next iteration =',\n",
    "      sse_cosine_kmeans_2)"
   ]
  },
  {
   "cell_type": "code",
   "execution_count": 26,
   "id": "0ab1e944-6b9c-4397-ba12-c5f824935060",
   "metadata": {
    "tags": []
   },
   "outputs": [
    {
     "name": "stdout",
     "output_type": "stream",
     "text": [
      "SSE of Cosine Kmeans when the SSE value increases in the next iteration is equal to 10430.754945182669\n"
     ]
    }
   ],
   "source": [
    "print(f\"SSE of Cosine Kmeans when the SSE value increases in the next iteration is equal to {sse_cosine_kmeans_2}\")\n"
   ]
  },
  {
   "cell_type": "code",
   "execution_count": 27,
   "id": "b6495955-d42b-42d7-83e3-e56be500f598",
   "metadata": {},
   "outputs": [
    {
     "name": "stdout",
     "output_type": "stream",
     "text": [
      "SSE of Jaccard K-means when the SSE value increases in the next iteration = 2535.562376446988\n"
     ]
    }
   ],
   "source": [
    "jaccard_kmeans_2 = KMeansClustering(k=no_of_clusters, stopping_criterion=\"increase_sse\")\n",
    "jaccard_kmeans_2_predicted_labels = jaccard_kmeans_2.fit(jaccard_distances, max_iterations=MAX_ITERATIONS)\n",
    "sse_jaccard_kmeans_2 = jaccard_kmeans_2.get_sum_of_squared_error()\n",
    "print('SSE of Jaccard K-means when the SSE value increases in the next iteration =',\n",
    "      sse_jaccard_kmeans_2)"
   ]
  },
  {
   "cell_type": "code",
   "execution_count": 28,
   "id": "7ae886d4-2594-48ba-9d0f-adc083539701",
   "metadata": {},
   "outputs": [
    {
     "name": "stdout",
     "output_type": "stream",
     "text": [
      "SSE of Euclidean K-means when the maximum preset value 100 is complete = 34761815.1094268\n"
     ]
    }
   ],
   "source": [
    "euclidean_kmeans_3 = KMeansClustering(k=no_of_clusters, stopping_criterion=\"max_iterations\")\n",
    "euclidean_kmeans_3_predicted_labels = euclidean_kmeans_3.fit(data, max_iterations=MAX_ITERATIONS)\n",
    "sse_euclidean_max_iteration = euclidean_kmeans_3.get_sum_of_squared_error()\n",
    "print(f'SSE of Euclidean K-means when the maximum preset value {MAX_ITERATIONS} is complete =',\n",
    "      sse_euclidean_max_iteration)"
   ]
  },
  {
   "cell_type": "code",
   "execution_count": 29,
   "id": "88b3c3b4-19b5-47bd-a8aa-2e1fae7e7233",
   "metadata": {},
   "outputs": [
    {
     "name": "stdout",
     "output_type": "stream",
     "text": [
      "SSE of Cosine K-means when the maximum preset value 100 is complete = 2809.4257132956236\n"
     ]
    }
   ],
   "source": [
    "cosine_kmeans_3 = KMeansClustering(k=no_of_clusters, stopping_criterion=\"max_iterations\")\n",
    "cosine_kmeans_3_predicted_labels = cosine_kmeans_3.fit(cosine_distances, max_iterations=MAX_ITERATIONS)\n",
    "sse_cosine_max_iteration = cosine_kmeans_3.get_sum_of_squared_error()\n",
    "print(f'SSE of Cosine K-means when the maximum preset value {MAX_ITERATIONS} is complete =',\n",
    "      sse_cosine_max_iteration)"
   ]
  },
  {
   "cell_type": "code",
   "execution_count": 30,
   "id": "e96c8d92-f910-4b20-a850-852bcef63bb8",
   "metadata": {},
   "outputs": [
    {
     "name": "stdout",
     "output_type": "stream",
     "text": [
      "SSE of Jaccard K-means when the maximum preset value 100 is complete = 1186.5483888572712\n"
     ]
    }
   ],
   "source": [
    "jaccard_kmeans_3 = KMeansClustering(k=no_of_clusters, stopping_criterion=\"max_iterations\")\n",
    "jaccard_kmeans_3_predicted_labels = jaccard_kmeans_3.fit(jaccard_distances, max_iterations=MAX_ITERATIONS)\n",
    "sse_jarcard_max_iteration = jaccard_kmeans_3.get_sum_of_squared_error()\n",
    "print(f'SSE of Jaccard K-means when the maximum preset value {MAX_ITERATIONS} is complete =',\n",
    "      sse_jarcard_max_iteration)"
   ]
  },
  {
   "cell_type": "code",
   "execution_count": 31,
   "id": "aecde76f-0ef0-49ef-9533-34bead623a17",
   "metadata": {
    "tags": []
   },
   "outputs": [
    {
     "data": {
      "text/markdown": [
       "\n",
       "| Algorithm | No Change in Centroid Position | SSE Value Increases in Next Iteration | Maximum Preset Value of Iterations |\n",
       "|------------|--------------------------------|----------------------------------------|-------------------------------------|\n",
       "| Euclidean  | 45726619.240226574              | 126905056.93280669                    | 34761815.1094268|\n",
       "| Jaccard    |2202.7521173511027          |2535.562376446988                  |1186.5483888572712        |\n",
       "| Cosine     |2474.2042976223465           |10430.754945182669                   |2809.4257132956236         |\n"
      ],
      "text/plain": [
       "<IPython.core.display.Markdown object>"
      ]
     },
     "metadata": {},
     "output_type": "display_data"
    }
   ],
   "source": [
    "table = f\"\"\"\n",
    "| Algorithm | No Change in Centroid Position | SSE Value Increases in Next Iteration | Maximum Preset Value of Iterations |\n",
    "|------------|--------------------------------|----------------------------------------|-------------------------------------|\n",
    "| Euclidean  | {sse_euclidean_kmeans_1}              | {sse_euclidean_kmeans_2}                    | {sse_euclidean_max_iteration}|\n",
    "| Jaccard    |{sse_jaccard_kmeans_1}          |{sse_jaccard_kmeans_2}                  |{sse_jarcard_max_iteration}        |\n",
    "| Cosine     |{sse_cosine_kmeans_1}           |{sse_cosine_kmeans_2}                   |{sse_cosine_max_iteration}         |\n",
    "\"\"\"\n",
    "display(Markdown(table))\n"
   ]
  }
 ],
 "metadata": {
  "kernelspec": {
   "display_name": "Python 3 (ipykernel)",
   "language": "python",
   "name": "python3"
  },
  "language_info": {
   "codemirror_mode": {
    "name": "ipython",
    "version": 3
   },
   "file_extension": ".py",
   "mimetype": "text/x-python",
   "name": "python",
   "nbconvert_exporter": "python",
   "pygments_lexer": "ipython3",
   "version": "3.11.3"
  }
 },
 "nbformat": 4,
 "nbformat_minor": 5
}
